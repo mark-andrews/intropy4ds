{
 "cells": [
  {
   "cell_type": "code",
   "execution_count": 1,
   "id": "b61159ef",
   "metadata": {},
   "outputs": [],
   "source": [
    "x = 42"
   ]
  },
  {
   "cell_type": "code",
   "execution_count": 2,
   "id": "5d4be6c9",
   "metadata": {},
   "outputs": [],
   "source": [
    "x, y, z = 42, 27, 13"
   ]
  },
  {
   "cell_type": "code",
   "execution_count": 3,
   "id": "0f202d6a",
   "metadata": {},
   "outputs": [
    {
     "data": {
      "text/plain": [
       "(42, 27, 13)"
      ]
     },
     "execution_count": 3,
     "metadata": {},
     "output_type": "execute_result"
    }
   ],
   "source": [
    "x, y, z\n"
   ]
  },
  {
   "cell_type": "code",
   "execution_count": null,
   "id": "e25ddc97",
   "metadata": {},
   "outputs": [],
   "source": [
    "def gcd(pair):\n",
    "    \n",
    "    x, y = pair\n",
    "    \n",
    "    "
   ]
  },
  {
   "cell_type": "code",
   "execution_count": 8,
   "id": "a89a26b3",
   "metadata": {},
   "outputs": [],
   "source": [
    "def gcd(pair):\n",
    "    \n",
    "    x, y = pair\n",
    "    \n",
    "    low_value = min(x, y)\n",
    "    \n",
    "    for i in range(low_value, 0, -1):\n",
    "        \n",
    "        if x % i == 0 and y % i == 0:\n",
    "            \n",
    "            return i"
   ]
  },
  {
   "cell_type": "code",
   "execution_count": 10,
   "id": "d8350c82",
   "metadata": {},
   "outputs": [
    {
     "data": {
      "text/plain": [
       "4"
      ]
     },
     "execution_count": 10,
     "metadata": {},
     "output_type": "execute_result"
    }
   ],
   "source": [
    "gcd((65576, 564))"
   ]
  },
  {
   "cell_type": "code",
   "execution_count": 7,
   "id": "198c6b32",
   "metadata": {},
   "outputs": [
    {
     "data": {
      "text/plain": [
       "True"
      ]
     },
     "execution_count": 7,
     "metadata": {},
     "output_type": "execute_result"
    }
   ],
   "source": [
    "10 % 2 == 0"
   ]
  },
  {
   "cell_type": "code",
   "execution_count": 11,
   "id": "6c5fdcba",
   "metadata": {},
   "outputs": [],
   "source": [
    "import numpy as np"
   ]
  },
  {
   "cell_type": "code",
   "execution_count": 12,
   "id": "00b64421",
   "metadata": {},
   "outputs": [],
   "source": [
    "X = np.random.randint(low = 500000, high = 1000000, size = (20, 2))"
   ]
  },
  {
   "cell_type": "code",
   "execution_count": 13,
   "id": "7f76ce7b",
   "metadata": {},
   "outputs": [
    {
     "data": {
      "text/plain": [
       "array([[908405, 508395],\n",
       "       [922428, 824396],\n",
       "       [906494, 760548],\n",
       "       [629840, 884732],\n",
       "       [615885, 717814],\n",
       "       [775641, 528065],\n",
       "       [932897, 617647],\n",
       "       [566237, 748118],\n",
       "       [748272, 550134],\n",
       "       [988572, 836038],\n",
       "       [590167, 969230],\n",
       "       [726296, 693358],\n",
       "       [668953, 604968],\n",
       "       [719305, 795468],\n",
       "       [704502, 984453],\n",
       "       [786431, 737510],\n",
       "       [699270, 672713],\n",
       "       [734317, 746494],\n",
       "       [780255, 838121],\n",
       "       [917000, 650482]])"
      ]
     },
     "execution_count": 13,
     "metadata": {},
     "output_type": "execute_result"
    }
   ],
   "source": [
    "X"
   ]
  },
  {
   "cell_type": "code",
   "execution_count": 14,
   "id": "70dc2b79",
   "metadata": {},
   "outputs": [
    {
     "data": {
      "text/plain": [
       "[5, 4, 2, 4, 1, 1, 1, 7, 6, 2, 1, 2, 1, 1, 3, 1, 1, 1, 1, 14]"
      ]
     },
     "execution_count": 14,
     "metadata": {},
     "output_type": "execute_result"
    }
   ],
   "source": [
    "[gcd(x) for x in X]"
   ]
  },
  {
   "cell_type": "code",
   "execution_count": 17,
   "id": "d90f732a",
   "metadata": {},
   "outputs": [
    {
     "data": {
      "text/plain": [
       "[5, 4, 2, 4, 1, 1, 1, 7, 6, 2, 1, 2, 1, 1, 3, 1, 1, 1, 1, 14]"
      ]
     },
     "execution_count": 17,
     "metadata": {},
     "output_type": "execute_result"
    }
   ],
   "source": [
    "list(map(gcd, X))"
   ]
  },
  {
   "cell_type": "code",
   "execution_count": 18,
   "id": "88266571",
   "metadata": {},
   "outputs": [
    {
     "name": "stdout",
     "output_type": "stream",
     "text": [
      "3.13 s ± 78.6 ms per loop (mean ± std. dev. of 7 runs, 1 loop each)\n"
     ]
    }
   ],
   "source": [
    "slow_time = %timeit -o list(map(gcd, X))"
   ]
  },
  {
   "cell_type": "code",
   "execution_count": 19,
   "id": "44b38844",
   "metadata": {},
   "outputs": [],
   "source": [
    "from concurrent.futures import ProcessPoolExecutor"
   ]
  },
  {
   "cell_type": "code",
   "execution_count": 20,
   "id": "b54d76cc",
   "metadata": {},
   "outputs": [],
   "source": [
    "pool = ProcessPoolExecutor(max_workers=6)"
   ]
  },
  {
   "cell_type": "code",
   "execution_count": 21,
   "id": "c09f0ab5",
   "metadata": {},
   "outputs": [
    {
     "data": {
      "text/plain": [
       "[5, 4, 2, 4, 1, 1, 1, 7, 6, 2, 1, 2, 1, 1, 3, 1, 1, 1, 1, 14]"
      ]
     },
     "execution_count": 21,
     "metadata": {},
     "output_type": "execute_result"
    }
   ],
   "source": [
    "list(pool.map(gcd, X))"
   ]
  },
  {
   "cell_type": "code",
   "execution_count": 22,
   "id": "bb366c05",
   "metadata": {},
   "outputs": [
    {
     "name": "stdout",
     "output_type": "stream",
     "text": [
      "628 ms ± 10 ms per loop (mean ± std. dev. of 7 runs, 1 loop each)\n"
     ]
    }
   ],
   "source": [
    "fast_time = %timeit -o list(pool.map(gcd, X))"
   ]
  },
  {
   "cell_type": "code",
   "execution_count": 23,
   "id": "d1f8c508",
   "metadata": {},
   "outputs": [
    {
     "data": {
      "text/plain": [
       "4.978794943262348"
      ]
     },
     "execution_count": 23,
     "metadata": {},
     "output_type": "execute_result"
    }
   ],
   "source": [
    "slow_time.average / fast_time.average"
   ]
  },
  {
   "cell_type": "code",
   "execution_count": 24,
   "id": "f71708eb",
   "metadata": {},
   "outputs": [],
   "source": [
    "import multiprocessing as mp"
   ]
  },
  {
   "cell_type": "code",
   "execution_count": 25,
   "id": "33b7305c",
   "metadata": {},
   "outputs": [],
   "source": [
    "mp_pool = mp.Pool(6)"
   ]
  },
  {
   "cell_type": "code",
   "execution_count": 28,
   "id": "f0926f61",
   "metadata": {},
   "outputs": [
    {
     "name": "stdout",
     "output_type": "stream",
     "text": [
      "609 ms ± 4.96 ms per loop (mean ± std. dev. of 7 runs, 1 loop each)\n"
     ]
    }
   ],
   "source": [
    "%timeit mp_pool.map(gcd, X)"
   ]
  },
  {
   "cell_type": "code",
   "execution_count": 29,
   "id": "f792a2d0",
   "metadata": {},
   "outputs": [],
   "source": [
    "mp_pool.close()"
   ]
  },
  {
   "cell_type": "code",
   "execution_count": null,
   "id": "0c409fe8",
   "metadata": {},
   "outputs": [],
   "source": []
  }
 ],
 "metadata": {
  "kernelspec": {
   "display_name": "Python 3",
   "language": "python",
   "name": "python3"
  },
  "language_info": {
   "codemirror_mode": {
    "name": "ipython",
    "version": 3
   },
   "file_extension": ".py",
   "mimetype": "text/x-python",
   "name": "python",
   "nbconvert_exporter": "python",
   "pygments_lexer": "ipython3",
   "version": "3.9.7"
  }
 },
 "nbformat": 4,
 "nbformat_minor": 5
}
