{
 "cells": [
  {
   "cell_type": "code",
   "execution_count": 1,
   "id": "782a6ac3",
   "metadata": {},
   "outputs": [],
   "source": [
    "x = [2, 3, 5, 7, 11]"
   ]
  },
  {
   "cell_type": "code",
   "execution_count": 2,
   "id": "7534936e",
   "metadata": {},
   "outputs": [
    {
     "data": {
      "text/plain": [
       "28"
      ]
     },
     "execution_count": 2,
     "metadata": {},
     "output_type": "execute_result"
    }
   ],
   "source": [
    "sum(x)"
   ]
  },
  {
   "cell_type": "code",
   "execution_count": 3,
   "id": "f56901b4",
   "metadata": {},
   "outputs": [
    {
     "ename": "NameError",
     "evalue": "name 'mean' is not defined",
     "output_type": "error",
     "traceback": [
      "\u001b[0;31m---------------------------------------------------------------------------\u001b[0m",
      "\u001b[0;31mNameError\u001b[0m                                 Traceback (most recent call last)",
      "\u001b[0;32m/tmp/ipykernel_1109701/703144658.py\u001b[0m in \u001b[0;36m<module>\u001b[0;34m\u001b[0m\n\u001b[0;32m----> 1\u001b[0;31m \u001b[0mmean\u001b[0m\u001b[0;34m(\u001b[0m\u001b[0mx\u001b[0m\u001b[0;34m)\u001b[0m\u001b[0;34m\u001b[0m\u001b[0;34m\u001b[0m\u001b[0m\n\u001b[0m",
      "\u001b[0;31mNameError\u001b[0m: name 'mean' is not defined"
     ]
    }
   ],
   "source": [
    "mean(x)"
   ]
  },
  {
   "cell_type": "code",
   "execution_count": 4,
   "id": "fa942dd1",
   "metadata": {},
   "outputs": [
    {
     "ename": "NameError",
     "evalue": "name 'log' is not defined",
     "output_type": "error",
     "traceback": [
      "\u001b[0;31m---------------------------------------------------------------------------\u001b[0m",
      "\u001b[0;31mNameError\u001b[0m                                 Traceback (most recent call last)",
      "\u001b[0;32m/tmp/ipykernel_1109701/2146120038.py\u001b[0m in \u001b[0;36m<module>\u001b[0;34m\u001b[0m\n\u001b[0;32m----> 1\u001b[0;31m \u001b[0mlog\u001b[0m\u001b[0;34m(\u001b[0m\u001b[0mx\u001b[0m\u001b[0;34m)\u001b[0m\u001b[0;34m\u001b[0m\u001b[0;34m\u001b[0m\u001b[0m\n\u001b[0m",
      "\u001b[0;31mNameError\u001b[0m: name 'log' is not defined"
     ]
    }
   ],
   "source": [
    "log(x)"
   ]
  },
  {
   "cell_type": "code",
   "execution_count": 5,
   "id": "05e2b4a5",
   "metadata": {},
   "outputs": [
    {
     "data": {
      "text/plain": [
       "[2, 3, 5, 7, 11, 2, 3, 5, 7, 11]"
      ]
     },
     "execution_count": 5,
     "metadata": {},
     "output_type": "execute_result"
    }
   ],
   "source": [
    "x * 2"
   ]
  },
  {
   "cell_type": "code",
   "execution_count": 6,
   "id": "769c6396",
   "metadata": {},
   "outputs": [
    {
     "data": {
      "text/plain": [
       "[2, 3, 5, 7, 11]"
      ]
     },
     "execution_count": 6,
     "metadata": {},
     "output_type": "execute_result"
    }
   ],
   "source": [
    "x"
   ]
  },
  {
   "cell_type": "code",
   "execution_count": 7,
   "id": "7e38e4b5",
   "metadata": {},
   "outputs": [
    {
     "data": {
      "text/plain": [
       "[2, 3, 5, 7, 11, 2, 3, 5, 7, 11]"
      ]
     },
     "execution_count": 7,
     "metadata": {},
     "output_type": "execute_result"
    }
   ],
   "source": [
    "x * 2"
   ]
  },
  {
   "cell_type": "code",
   "execution_count": 8,
   "id": "d93950e2",
   "metadata": {},
   "outputs": [
    {
     "ename": "TypeError",
     "evalue": "can only concatenate list (not \"int\") to list",
     "output_type": "error",
     "traceback": [
      "\u001b[0;31m---------------------------------------------------------------------------\u001b[0m",
      "\u001b[0;31mTypeError\u001b[0m                                 Traceback (most recent call last)",
      "\u001b[0;32m/tmp/ipykernel_1109701/933937903.py\u001b[0m in \u001b[0;36m<module>\u001b[0;34m\u001b[0m\n\u001b[0;32m----> 1\u001b[0;31m \u001b[0mx\u001b[0m \u001b[0;34m+\u001b[0m \u001b[0;36m1\u001b[0m\u001b[0;34m\u001b[0m\u001b[0;34m\u001b[0m\u001b[0m\n\u001b[0m",
      "\u001b[0;31mTypeError\u001b[0m: can only concatenate list (not \"int\") to list"
     ]
    }
   ],
   "source": [
    "x + 1"
   ]
  },
  {
   "cell_type": "code",
   "execution_count": 9,
   "id": "262b5896",
   "metadata": {},
   "outputs": [],
   "source": [
    "import numpy"
   ]
  },
  {
   "cell_type": "code",
   "execution_count": 10,
   "id": "7f4380d0",
   "metadata": {},
   "outputs": [
    {
     "ename": "NameError",
     "evalue": "name 'array' is not defined",
     "output_type": "error",
     "traceback": [
      "\u001b[0;31m---------------------------------------------------------------------------\u001b[0m",
      "\u001b[0;31mNameError\u001b[0m                                 Traceback (most recent call last)",
      "\u001b[0;32m/tmp/ipykernel_1109701/3272319899.py\u001b[0m in \u001b[0;36m<module>\u001b[0;34m\u001b[0m\n\u001b[0;32m----> 1\u001b[0;31m \u001b[0marray\u001b[0m\u001b[0;34m\u001b[0m\u001b[0;34m\u001b[0m\u001b[0m\n\u001b[0m",
      "\u001b[0;31mNameError\u001b[0m: name 'array' is not defined"
     ]
    }
   ],
   "source": [
    "array"
   ]
  },
  {
   "cell_type": "code",
   "execution_count": 14,
   "id": "86fdd3e8",
   "metadata": {},
   "outputs": [
    {
     "data": {
      "text/plain": [
       "<function numpy.array>"
      ]
     },
     "execution_count": 14,
     "metadata": {},
     "output_type": "execute_result"
    }
   ],
   "source": [
    "numpy.array"
   ]
  },
  {
   "cell_type": "code",
   "execution_count": 12,
   "id": "9d000983",
   "metadata": {},
   "outputs": [],
   "source": [
    "from numpy import array"
   ]
  },
  {
   "cell_type": "code",
   "execution_count": 13,
   "id": "058bc535",
   "metadata": {},
   "outputs": [
    {
     "data": {
      "text/plain": [
       "<function numpy.array>"
      ]
     },
     "execution_count": 13,
     "metadata": {},
     "output_type": "execute_result"
    }
   ],
   "source": [
    "array"
   ]
  },
  {
   "cell_type": "code",
   "execution_count": 15,
   "id": "2849c51c",
   "metadata": {},
   "outputs": [],
   "source": [
    "import numpy as np"
   ]
  },
  {
   "cell_type": "code",
   "execution_count": 16,
   "id": "de90f9d7",
   "metadata": {},
   "outputs": [
    {
     "data": {
      "text/plain": [
       "<function numpy.array>"
      ]
     },
     "execution_count": 16,
     "metadata": {},
     "output_type": "execute_result"
    }
   ],
   "source": [
    "numpy.array"
   ]
  },
  {
   "cell_type": "code",
   "execution_count": 17,
   "id": "33ef6120",
   "metadata": {},
   "outputs": [
    {
     "data": {
      "text/plain": [
       "<function numpy.array>"
      ]
     },
     "execution_count": 17,
     "metadata": {},
     "output_type": "execute_result"
    }
   ],
   "source": [
    "np.array"
   ]
  },
  {
   "cell_type": "code",
   "execution_count": 18,
   "id": "84ef3b16",
   "metadata": {},
   "outputs": [
    {
     "data": {
      "text/plain": [
       "[2, 3, 5, 7, 11]"
      ]
     },
     "execution_count": 18,
     "metadata": {},
     "output_type": "execute_result"
    }
   ],
   "source": [
    "x"
   ]
  },
  {
   "cell_type": "code",
   "execution_count": 20,
   "id": "c6c58709",
   "metadata": {},
   "outputs": [],
   "source": [
    "x = np.array(x)"
   ]
  },
  {
   "cell_type": "code",
   "execution_count": 21,
   "id": "5c722b9d",
   "metadata": {},
   "outputs": [
    {
     "data": {
      "text/plain": [
       "numpy.ndarray"
      ]
     },
     "execution_count": 21,
     "metadata": {},
     "output_type": "execute_result"
    }
   ],
   "source": [
    "type(x)"
   ]
  },
  {
   "cell_type": "code",
   "execution_count": 22,
   "id": "8e5727a9",
   "metadata": {},
   "outputs": [
    {
     "data": {
      "text/plain": [
       "28"
      ]
     },
     "execution_count": 22,
     "metadata": {},
     "output_type": "execute_result"
    }
   ],
   "source": [
    "x.sum()"
   ]
  },
  {
   "cell_type": "code",
   "execution_count": 23,
   "id": "a85cb549",
   "metadata": {},
   "outputs": [
    {
     "data": {
      "text/plain": [
       "5.6"
      ]
     },
     "execution_count": 23,
     "metadata": {},
     "output_type": "execute_result"
    }
   ],
   "source": [
    "x.mean()"
   ]
  },
  {
   "cell_type": "code",
   "execution_count": 24,
   "id": "e24fa2ad",
   "metadata": {},
   "outputs": [
    {
     "data": {
      "text/plain": [
       "3.2"
      ]
     },
     "execution_count": 24,
     "metadata": {},
     "output_type": "execute_result"
    }
   ],
   "source": [
    "x.std()"
   ]
  },
  {
   "cell_type": "code",
   "execution_count": 25,
   "id": "c6de0f3e",
   "metadata": {},
   "outputs": [
    {
     "data": {
      "text/plain": [
       "10.24"
      ]
     },
     "execution_count": 25,
     "metadata": {},
     "output_type": "execute_result"
    }
   ],
   "source": [
    "x.var()"
   ]
  },
  {
   "cell_type": "code",
   "execution_count": 26,
   "id": "072bb3c5",
   "metadata": {},
   "outputs": [
    {
     "data": {
      "text/plain": [
       "<function numpy.mean(a, axis=None, dtype=None, out=None, keepdims=<no value>, *, where=<no value>)>"
      ]
     },
     "execution_count": 26,
     "metadata": {},
     "output_type": "execute_result"
    }
   ],
   "source": [
    "np.mean"
   ]
  },
  {
   "cell_type": "code",
   "execution_count": 27,
   "id": "3207ae18",
   "metadata": {},
   "outputs": [
    {
     "data": {
      "text/plain": [
       "5.6"
      ]
     },
     "execution_count": 27,
     "metadata": {},
     "output_type": "execute_result"
    }
   ],
   "source": [
    "np.mean(x)"
   ]
  },
  {
   "cell_type": "code",
   "execution_count": 28,
   "id": "83701f66",
   "metadata": {},
   "outputs": [
    {
     "data": {
      "text/plain": [
       "array([ 3,  4,  6,  8, 12])"
      ]
     },
     "execution_count": 28,
     "metadata": {},
     "output_type": "execute_result"
    }
   ],
   "source": [
    "x + 1"
   ]
  },
  {
   "cell_type": "code",
   "execution_count": 29,
   "id": "130e94ee",
   "metadata": {},
   "outputs": [
    {
     "data": {
      "text/plain": [
       "array([ 4,  6, 10, 14, 22])"
      ]
     },
     "execution_count": 29,
     "metadata": {},
     "output_type": "execute_result"
    }
   ],
   "source": [
    "x * 2"
   ]
  },
  {
   "cell_type": "code",
   "execution_count": 34,
   "id": "3d319d10",
   "metadata": {},
   "outputs": [
    {
     "data": {
      "text/plain": [
       "10.24"
      ]
     },
     "execution_count": 34,
     "metadata": {},
     "output_type": "execute_result"
    }
   ],
   "source": [
    "np.mean((x - x.mean())**2)"
   ]
  },
  {
   "cell_type": "code",
   "execution_count": 35,
   "id": "2c0deef4",
   "metadata": {},
   "outputs": [
    {
     "data": {
      "text/plain": [
       "12.8"
      ]
     },
     "execution_count": 35,
     "metadata": {},
     "output_type": "execute_result"
    }
   ],
   "source": [
    "x.var(ddof = 1)\n"
   ]
  },
  {
   "cell_type": "markdown",
   "id": "794f7122",
   "metadata": {},
   "source": [
    "## Create a relatively large array of random numbers"
   ]
  },
  {
   "cell_type": "code",
   "execution_count": 38,
   "id": "ea44dc7f",
   "metadata": {},
   "outputs": [],
   "source": [
    "y = np.random.rand(1000000)"
   ]
  },
  {
   "cell_type": "code",
   "execution_count": 39,
   "id": "cf9cdf0c",
   "metadata": {},
   "outputs": [
    {
     "data": {
      "text/plain": [
       "array([0.53532247, 0.62478016, 0.71392182, ..., 0.51714164, 0.91008716,\n",
       "       0.96724555])"
      ]
     },
     "execution_count": 39,
     "metadata": {},
     "output_type": "execute_result"
    }
   ],
   "source": [
    "y"
   ]
  },
  {
   "cell_type": "code",
   "execution_count": 40,
   "id": "e83ef7ba",
   "metadata": {},
   "outputs": [],
   "source": [
    "y_list = list(y)"
   ]
  },
  {
   "cell_type": "code",
   "execution_count": 42,
   "id": "3e4e30fa",
   "metadata": {},
   "outputs": [
    {
     "data": {
      "text/plain": [
       "array([0.1664833 , 0.19859361, 0.9048056 , ..., 0.12868518, 0.76685541,\n",
       "       0.98863637])"
      ]
     },
     "execution_count": 42,
     "metadata": {},
     "output_type": "execute_result"
    }
   ],
   "source": []
  },
  {
   "cell_type": "code",
   "execution_count": 43,
   "id": "6e020fa0",
   "metadata": {},
   "outputs": [
    {
     "data": {
      "text/plain": [
       "499743.6955185562"
      ]
     },
     "execution_count": 43,
     "metadata": {},
     "output_type": "execute_result"
    }
   ],
   "source": [
    "sum(y_list)"
   ]
  },
  {
   "cell_type": "code",
   "execution_count": 44,
   "id": "54905f81",
   "metadata": {},
   "outputs": [
    {
     "data": {
      "text/plain": [
       "499743.6955185462"
      ]
     },
     "execution_count": 44,
     "metadata": {},
     "output_type": "execute_result"
    }
   ],
   "source": [
    "y.sum()"
   ]
  },
  {
   "cell_type": "code",
   "execution_count": 45,
   "id": "e795294c",
   "metadata": {},
   "outputs": [
    {
     "name": "stdout",
     "output_type": "stream",
     "text": [
      "42.2 ms ± 1.04 ms per loop (mean ± std. dev. of 7 runs, 10 loops each)\n"
     ]
    }
   ],
   "source": [
    "%timeit sum(y_list)"
   ]
  },
  {
   "cell_type": "code",
   "execution_count": 46,
   "id": "d282c9a1",
   "metadata": {},
   "outputs": [
    {
     "name": "stdout",
     "output_type": "stream",
     "text": [
      "208 µs ± 5.58 µs per loop (mean ± std. dev. of 7 runs, 1000 loops each)\n"
     ]
    }
   ],
   "source": [
    "%timeit y.sum()"
   ]
  },
  {
   "cell_type": "code",
   "execution_count": 47,
   "id": "622a24d9",
   "metadata": {},
   "outputs": [
    {
     "name": "stdout",
     "output_type": "stream",
     "text": [
      "43 ms ± 740 µs per loop (mean ± std. dev. of 7 runs, 10 loops each)\n"
     ]
    }
   ],
   "source": [
    "y_list_speed = %timeit -o sum(y_list)"
   ]
  },
  {
   "cell_type": "code",
   "execution_count": 48,
   "id": "f7659400",
   "metadata": {},
   "outputs": [
    {
     "data": {
      "text/plain": [
       "0.04296300998539664"
      ]
     },
     "execution_count": 48,
     "metadata": {},
     "output_type": "execute_result"
    }
   ],
   "source": [
    "y_list_speed.average"
   ]
  },
  {
   "cell_type": "code",
   "execution_count": 49,
   "id": "bcd99104",
   "metadata": {},
   "outputs": [
    {
     "name": "stdout",
     "output_type": "stream",
     "text": [
      "200 µs ± 2.62 µs per loop (mean ± std. dev. of 7 runs, 1000 loops each)\n"
     ]
    }
   ],
   "source": [
    "y_np_speed = %timeit -o y.sum()"
   ]
  },
  {
   "cell_type": "code",
   "execution_count": 51,
   "id": "52ce8b1a",
   "metadata": {},
   "outputs": [
    {
     "data": {
      "text/plain": [
       "0.00020045595899656683"
      ]
     },
     "execution_count": 51,
     "metadata": {},
     "output_type": "execute_result"
    }
   ],
   "source": [
    "y_np_speed.average"
   ]
  },
  {
   "cell_type": "code",
   "execution_count": 52,
   "id": "5929d6d5",
   "metadata": {},
   "outputs": [
    {
     "data": {
      "text/plain": [
       "214.32642960807397"
      ]
     },
     "execution_count": 52,
     "metadata": {},
     "output_type": "execute_result"
    }
   ],
   "source": [
    "y_list_speed.average / y_np_speed.average"
   ]
  },
  {
   "cell_type": "code",
   "execution_count": 53,
   "id": "6c21b7eb",
   "metadata": {},
   "outputs": [
    {
     "data": {
      "text/plain": [
       "array([0.53532247, 0.62478016, 0.71392182, ..., 0.51714164, 0.91008716,\n",
       "       0.96724555])"
      ]
     },
     "execution_count": 53,
     "metadata": {},
     "output_type": "execute_result"
    }
   ],
   "source": [
    "y"
   ]
  },
  {
   "cell_type": "code",
   "execution_count": 54,
   "id": "c3cd108c",
   "metadata": {},
   "outputs": [
    {
     "data": {
      "text/plain": [
       "array([0.12023452, 0.91299106, 0.44434886, 0.07925862, 0.26871955,\n",
       "       0.51143901, 0.44722724, 0.31249016, 0.02304778, 0.77930189])"
      ]
     },
     "execution_count": 54,
     "metadata": {},
     "output_type": "execute_result"
    }
   ],
   "source": [
    "y[10:20]"
   ]
  },
  {
   "cell_type": "code",
   "execution_count": 55,
   "id": "f44ab2ba",
   "metadata": {},
   "outputs": [
    {
     "data": {
      "text/plain": [
       "array([0.75607042, 0.78510633, 0.88928695, 0.76219898, 0.18438439,\n",
       "       0.36130085, 0.31535339, 0.51714164, 0.91008716, 0.96724555])"
      ]
     },
     "execution_count": 55,
     "metadata": {},
     "output_type": "execute_result"
    }
   ],
   "source": [
    "y[-10:]"
   ]
  },
  {
   "cell_type": "code",
   "execution_count": 56,
   "id": "9a50063b",
   "metadata": {},
   "outputs": [
    {
     "data": {
      "text/plain": [
       "array([0.12023452, 0.91299106, 0.44434886, 0.07925862, 0.26871955,\n",
       "       0.51143901, 0.44722724, 0.31249016, 0.02304778, 0.77930189,\n",
       "       0.64927932, 0.36929895, 0.98486807, 0.96743513, 0.32840113,\n",
       "       0.49223581, 0.639132  , 0.23828939, 0.14915077, 0.11169451,\n",
       "       0.92571653, 0.44709184, 0.29426721, 0.11048416, 0.75593411,\n",
       "       0.73936292, 0.11262593, 0.41620466, 0.49220429, 0.67074134,\n",
       "       0.75890153, 0.11355313, 0.74696083, 0.19364918, 0.97723467,\n",
       "       0.70778411, 0.56259765, 0.91913005, 0.97775839, 0.72998922,\n",
       "       0.16418358, 0.30348817, 0.02029273, 0.71174678, 0.24718189,\n",
       "       0.59624024, 0.49207166, 0.84614184, 0.33636283, 0.01032016,\n",
       "       0.69073708, 0.55700722, 0.21118737, 0.33406267, 0.34863878,\n",
       "       0.83049821, 0.51780779, 0.89927337, 0.69773691, 0.53427117,\n",
       "       0.85853734, 0.29820887, 0.33472243, 0.81750488, 0.19188712,\n",
       "       0.6795856 , 0.53234045, 0.37136536, 0.73405134, 0.27597714,\n",
       "       0.44067821, 0.02686935, 0.67756539, 0.27721502, 0.13425114,\n",
       "       0.05993611, 0.3679688 , 0.97327887, 0.59567232, 0.96348368,\n",
       "       0.39931216, 0.29472953, 0.09452094, 0.50386046, 0.48145801,\n",
       "       0.13668366, 0.20038555, 0.69667074, 0.11341678, 0.91800764])"
      ]
     },
     "execution_count": 56,
     "metadata": {},
     "output_type": "execute_result"
    }
   ],
   "source": [
    "y[10:100]"
   ]
  },
  {
   "cell_type": "code",
   "execution_count": 58,
   "id": "e1f93287",
   "metadata": {},
   "outputs": [
    {
     "data": {
      "text/plain": [
       "array([0.12023452, 0.474179  , 0.33313551, 0.97572493, 0.1105951 ,\n",
       "       0.43294659, 0.7570031 , 0.8239363 , 0.38538246, 0.54792539])"
      ]
     },
     "execution_count": 58,
     "metadata": {},
     "output_type": "execute_result"
    }
   ],
   "source": [
    "y[10:1000:100]"
   ]
  },
  {
   "cell_type": "markdown",
   "id": "743d2b35",
   "metadata": {},
   "source": [
    "## n-d arrays"
   ]
  },
  {
   "cell_type": "code",
   "execution_count": 59,
   "id": "c31feaa8",
   "metadata": {},
   "outputs": [],
   "source": [
    "z = np.random.rand(10, 5)"
   ]
  },
  {
   "cell_type": "code",
   "execution_count": 60,
   "id": "8a17a57d",
   "metadata": {},
   "outputs": [
    {
     "data": {
      "text/plain": [
       "array([[0.53706316, 0.29325182, 0.24772018, 0.36035796, 0.31776892],\n",
       "       [0.69587382, 0.72156132, 0.24482982, 0.14500222, 0.29689609],\n",
       "       [0.95994747, 0.90131929, 0.18864549, 0.45452013, 0.14908857],\n",
       "       [0.41989459, 0.29978012, 0.69718132, 0.00656281, 0.72837697],\n",
       "       [0.97566298, 0.40557653, 0.69286419, 0.10751993, 0.89744416],\n",
       "       [0.91542196, 0.56229601, 0.8756743 , 0.56914041, 0.34527878],\n",
       "       [0.02112053, 0.97580197, 0.88866146, 0.00353037, 0.70523286],\n",
       "       [0.76676476, 0.43718269, 0.70937698, 0.22787457, 0.002344  ],\n",
       "       [0.92724764, 0.98329569, 0.39944288, 0.59417668, 0.36817057],\n",
       "       [0.52560971, 0.24749824, 0.2743726 , 0.27846127, 0.38207105]])"
      ]
     },
     "execution_count": 60,
     "metadata": {},
     "output_type": "execute_result"
    }
   ],
   "source": [
    "z"
   ]
  },
  {
   "cell_type": "code",
   "execution_count": 61,
   "id": "6a2c78b3",
   "metadata": {},
   "outputs": [
    {
     "data": {
      "text/plain": [
       "<TimeitResult : 43 ms ± 740 µs per loop (mean ± std. dev. of 7 runs, 10 loops each)>"
      ]
     },
     "execution_count": 61,
     "metadata": {},
     "output_type": "execute_result"
    }
   ],
   "source": [
    "y_list_speed"
   ]
  },
  {
   "cell_type": "code",
   "execution_count": 62,
   "id": "b7a9a642",
   "metadata": {},
   "outputs": [
    {
     "data": {
      "text/plain": [
       "(10, 5)"
      ]
     },
     "execution_count": 62,
     "metadata": {},
     "output_type": "execute_result"
    }
   ],
   "source": [
    "z.shape"
   ]
  },
  {
   "cell_type": "code",
   "execution_count": 63,
   "id": "2eebf9fc",
   "metadata": {},
   "outputs": [
    {
     "data": {
      "text/plain": [
       "(1000000,)"
      ]
     },
     "execution_count": 63,
     "metadata": {},
     "output_type": "execute_result"
    }
   ],
   "source": [
    "y.shape"
   ]
  },
  {
   "cell_type": "code",
   "execution_count": 64,
   "id": "bf864f6d",
   "metadata": {},
   "outputs": [
    {
     "data": {
      "text/plain": [
       "50"
      ]
     },
     "execution_count": 64,
     "metadata": {},
     "output_type": "execute_result"
    }
   ],
   "source": [
    "z.size"
   ]
  },
  {
   "cell_type": "code",
   "execution_count": 67,
   "id": "7d34a4f0",
   "metadata": {},
   "outputs": [
    {
     "data": {
      "text/plain": [
       "array([[[0.46366033, 0.30845843],\n",
       "        [0.31384354, 0.71570679],\n",
       "        [0.51613342, 0.88280241],\n",
       "        [0.72773841, 0.56437644],\n",
       "        [0.69935145, 0.36540142]],\n",
       "\n",
       "       [[0.66302993, 0.68791549],\n",
       "        [0.84828002, 0.25526247],\n",
       "        [0.574244  , 0.19587146],\n",
       "        [0.11226797, 0.54952165],\n",
       "        [0.80897478, 0.60268497]],\n",
       "\n",
       "       [[0.02825765, 0.18261019],\n",
       "        [0.84902599, 0.75953225],\n",
       "        [0.57534875, 0.2612554 ],\n",
       "        [0.13904935, 0.706742  ],\n",
       "        [0.11471377, 0.87072596]]])"
      ]
     },
     "execution_count": 67,
     "metadata": {},
     "output_type": "execute_result"
    }
   ],
   "source": [
    "np.random.rand(3, 5, 2)"
   ]
  },
  {
   "cell_type": "code",
   "execution_count": 68,
   "id": "3e2db0a6",
   "metadata": {},
   "outputs": [
    {
     "data": {
      "text/plain": [
       "array([[0.53706316, 0.29325182, 0.24772018, 0.36035796, 0.31776892],\n",
       "       [0.69587382, 0.72156132, 0.24482982, 0.14500222, 0.29689609],\n",
       "       [0.95994747, 0.90131929, 0.18864549, 0.45452013, 0.14908857],\n",
       "       [0.41989459, 0.29978012, 0.69718132, 0.00656281, 0.72837697],\n",
       "       [0.97566298, 0.40557653, 0.69286419, 0.10751993, 0.89744416],\n",
       "       [0.91542196, 0.56229601, 0.8756743 , 0.56914041, 0.34527878],\n",
       "       [0.02112053, 0.97580197, 0.88866146, 0.00353037, 0.70523286],\n",
       "       [0.76676476, 0.43718269, 0.70937698, 0.22787457, 0.002344  ],\n",
       "       [0.92724764, 0.98329569, 0.39944288, 0.59417668, 0.36817057],\n",
       "       [0.52560971, 0.24749824, 0.2743726 , 0.27846127, 0.38207105]])"
      ]
     },
     "execution_count": 68,
     "metadata": {},
     "output_type": "execute_result"
    }
   ],
   "source": [
    "z"
   ]
  },
  {
   "cell_type": "code",
   "execution_count": 69,
   "id": "4c12be42",
   "metadata": {},
   "outputs": [
    {
     "data": {
      "text/plain": [
       "array([0.53706316, 0.29325182, 0.24772018, 0.36035796, 0.31776892])"
      ]
     },
     "execution_count": 69,
     "metadata": {},
     "output_type": "execute_result"
    }
   ],
   "source": [
    "z[0]"
   ]
  },
  {
   "cell_type": "code",
   "execution_count": 71,
   "id": "62e47ab3",
   "metadata": {},
   "outputs": [
    {
     "data": {
      "text/plain": [
       "array([0.53706316, 0.69587382, 0.95994747, 0.41989459, 0.97566298,\n",
       "       0.91542196, 0.02112053, 0.76676476, 0.92724764, 0.52560971])"
      ]
     },
     "execution_count": 71,
     "metadata": {},
     "output_type": "execute_result"
    }
   ],
   "source": [
    "z[:,0]\n"
   ]
  },
  {
   "cell_type": "code",
   "execution_count": 72,
   "id": "a54ac0e3",
   "metadata": {},
   "outputs": [
    {
     "data": {
      "text/plain": [
       "array([0.53706316, 0.29325182, 0.24772018, 0.36035796, 0.31776892])"
      ]
     },
     "execution_count": 72,
     "metadata": {},
     "output_type": "execute_result"
    }
   ],
   "source": [
    "z[0,:]"
   ]
  },
  {
   "cell_type": "code",
   "execution_count": 73,
   "id": "ba7b71c9",
   "metadata": {},
   "outputs": [
    {
     "data": {
      "text/plain": [
       "array([[0.24772018, 0.29325182, 0.31776892, 0.36035796, 0.53706316],\n",
       "       [0.14500222, 0.24482982, 0.29689609, 0.69587382, 0.72156132],\n",
       "       [0.14908857, 0.18864549, 0.45452013, 0.90131929, 0.95994747],\n",
       "       [0.00656281, 0.29978012, 0.41989459, 0.69718132, 0.72837697],\n",
       "       [0.10751993, 0.40557653, 0.69286419, 0.89744416, 0.97566298],\n",
       "       [0.34527878, 0.56229601, 0.56914041, 0.8756743 , 0.91542196],\n",
       "       [0.00353037, 0.02112053, 0.70523286, 0.88866146, 0.97580197],\n",
       "       [0.002344  , 0.22787457, 0.43718269, 0.70937698, 0.76676476],\n",
       "       [0.36817057, 0.39944288, 0.59417668, 0.92724764, 0.98329569],\n",
       "       [0.24749824, 0.2743726 , 0.27846127, 0.38207105, 0.52560971]])"
      ]
     },
     "execution_count": 73,
     "metadata": {},
     "output_type": "execute_result"
    }
   ],
   "source": [
    "np.sort(z)"
   ]
  },
  {
   "cell_type": "code",
   "execution_count": 74,
   "id": "94fe36a9",
   "metadata": {},
   "outputs": [
    {
     "data": {
      "text/plain": [
       "array([[0.53706316, 0.29325182, 0.24772018, 0.36035796, 0.31776892],\n",
       "       [0.69587382, 0.72156132, 0.24482982, 0.14500222, 0.29689609],\n",
       "       [0.95994747, 0.90131929, 0.18864549, 0.45452013, 0.14908857],\n",
       "       [0.41989459, 0.29978012, 0.69718132, 0.00656281, 0.72837697],\n",
       "       [0.97566298, 0.40557653, 0.69286419, 0.10751993, 0.89744416],\n",
       "       [0.91542196, 0.56229601, 0.8756743 , 0.56914041, 0.34527878],\n",
       "       [0.02112053, 0.97580197, 0.88866146, 0.00353037, 0.70523286],\n",
       "       [0.76676476, 0.43718269, 0.70937698, 0.22787457, 0.002344  ],\n",
       "       [0.92724764, 0.98329569, 0.39944288, 0.59417668, 0.36817057],\n",
       "       [0.52560971, 0.24749824, 0.2743726 , 0.27846127, 0.38207105]])"
      ]
     },
     "execution_count": 74,
     "metadata": {},
     "output_type": "execute_result"
    }
   ],
   "source": [
    "z"
   ]
  },
  {
   "cell_type": "code",
   "execution_count": 78,
   "id": "1f62872b",
   "metadata": {},
   "outputs": [],
   "source": [
    "?np.sort"
   ]
  },
  {
   "cell_type": "code",
   "execution_count": 84,
   "id": "c8d9d681",
   "metadata": {},
   "outputs": [
    {
     "data": {
      "text/plain": [
       "array([[0.02112053, 0.24749824, 0.18864549, 0.00353037, 0.002344  ],\n",
       "       [0.41989459, 0.29325182, 0.24482982, 0.00656281, 0.14908857],\n",
       "       [0.52560971, 0.29978012, 0.24772018, 0.10751993, 0.29689609],\n",
       "       [0.53706316, 0.40557653, 0.2743726 , 0.14500222, 0.31776892],\n",
       "       [0.69587382, 0.43718269, 0.39944288, 0.22787457, 0.34527878],\n",
       "       [0.76676476, 0.56229601, 0.69286419, 0.27846127, 0.36817057],\n",
       "       [0.91542196, 0.72156132, 0.69718132, 0.36035796, 0.38207105],\n",
       "       [0.92724764, 0.90131929, 0.70937698, 0.45452013, 0.70523286],\n",
       "       [0.95994747, 0.97580197, 0.8756743 , 0.56914041, 0.72837697],\n",
       "       [0.97566298, 0.98329569, 0.88866146, 0.59417668, 0.89744416]])"
      ]
     },
     "execution_count": 84,
     "metadata": {},
     "output_type": "execute_result"
    }
   ],
   "source": [
    "np.sort(z, 0)"
   ]
  },
  {
   "cell_type": "code",
   "execution_count": 85,
   "id": "24cda1c2",
   "metadata": {},
   "outputs": [
    {
     "data": {
      "text/plain": [
       "array([[0.97566298, 0.98329569, 0.88866146, 0.59417668, 0.89744416],\n",
       "       [0.95994747, 0.97580197, 0.8756743 , 0.56914041, 0.72837697],\n",
       "       [0.92724764, 0.90131929, 0.70937698, 0.45452013, 0.70523286],\n",
       "       [0.91542196, 0.72156132, 0.69718132, 0.36035796, 0.38207105],\n",
       "       [0.76676476, 0.56229601, 0.69286419, 0.27846127, 0.36817057],\n",
       "       [0.69587382, 0.43718269, 0.39944288, 0.22787457, 0.34527878],\n",
       "       [0.53706316, 0.40557653, 0.2743726 , 0.14500222, 0.31776892],\n",
       "       [0.52560971, 0.29978012, 0.24772018, 0.10751993, 0.29689609],\n",
       "       [0.41989459, 0.29325182, 0.24482982, 0.00656281, 0.14908857],\n",
       "       [0.02112053, 0.24749824, 0.18864549, 0.00353037, 0.002344  ]])"
      ]
     },
     "execution_count": 85,
     "metadata": {},
     "output_type": "execute_result"
    }
   ],
   "source": [
    "np.flipud(np.sort(z, 0))"
   ]
  },
  {
   "cell_type": "code",
   "execution_count": 86,
   "id": "6d135bc2",
   "metadata": {},
   "outputs": [
    {
     "data": {
      "text/plain": [
       "array([[0.53706316, 0.29325182, 0.24772018, 0.36035796, 0.31776892],\n",
       "       [0.69587382, 0.72156132, 0.24482982, 0.14500222, 0.29689609],\n",
       "       [0.95994747, 0.90131929, 0.18864549, 0.45452013, 0.14908857],\n",
       "       [0.41989459, 0.29978012, 0.69718132, 0.00656281, 0.72837697],\n",
       "       [0.97566298, 0.40557653, 0.69286419, 0.10751993, 0.89744416],\n",
       "       [0.91542196, 0.56229601, 0.8756743 , 0.56914041, 0.34527878],\n",
       "       [0.02112053, 0.97580197, 0.88866146, 0.00353037, 0.70523286],\n",
       "       [0.76676476, 0.43718269, 0.70937698, 0.22787457, 0.002344  ],\n",
       "       [0.92724764, 0.98329569, 0.39944288, 0.59417668, 0.36817057],\n",
       "       [0.52560971, 0.24749824, 0.2743726 , 0.27846127, 0.38207105]])"
      ]
     },
     "execution_count": 86,
     "metadata": {},
     "output_type": "execute_result"
    }
   ],
   "source": [
    "z"
   ]
  },
  {
   "cell_type": "code",
   "execution_count": 88,
   "id": "443ef68f",
   "metadata": {},
   "outputs": [
    {
     "data": {
      "text/plain": [
       "array([[0.53706316, 0.29325182, 0.24772018, 0.36035796, 0.31776892,\n",
       "        0.69587382, 0.72156132, 0.24482982, 0.14500222, 0.29689609,\n",
       "        0.95994747, 0.90131929, 0.18864549, 0.45452013, 0.14908857,\n",
       "        0.41989459, 0.29978012, 0.69718132, 0.00656281, 0.72837697,\n",
       "        0.97566298, 0.40557653, 0.69286419, 0.10751993, 0.89744416],\n",
       "       [0.91542196, 0.56229601, 0.8756743 , 0.56914041, 0.34527878,\n",
       "        0.02112053, 0.97580197, 0.88866146, 0.00353037, 0.70523286,\n",
       "        0.76676476, 0.43718269, 0.70937698, 0.22787457, 0.002344  ,\n",
       "        0.92724764, 0.98329569, 0.39944288, 0.59417668, 0.36817057,\n",
       "        0.52560971, 0.24749824, 0.2743726 , 0.27846127, 0.38207105]])"
      ]
     },
     "execution_count": 88,
     "metadata": {},
     "output_type": "execute_result"
    }
   ],
   "source": [
    "z.reshape((2, 25))"
   ]
  },
  {
   "cell_type": "code",
   "execution_count": 89,
   "id": "da5261c2",
   "metadata": {},
   "outputs": [
    {
     "data": {
      "text/plain": [
       "array([[0.53706316, 0.29325182, 0.24772018, 0.36035796, 0.31776892,\n",
       "        0.69587382, 0.72156132, 0.24482982, 0.14500222, 0.29689609,\n",
       "        0.95994747, 0.90131929, 0.18864549, 0.45452013, 0.14908857,\n",
       "        0.41989459, 0.29978012, 0.69718132, 0.00656281, 0.72837697,\n",
       "        0.97566298, 0.40557653, 0.69286419, 0.10751993, 0.89744416],\n",
       "       [0.91542196, 0.56229601, 0.8756743 , 0.56914041, 0.34527878,\n",
       "        0.02112053, 0.97580197, 0.88866146, 0.00353037, 0.70523286,\n",
       "        0.76676476, 0.43718269, 0.70937698, 0.22787457, 0.002344  ,\n",
       "        0.92724764, 0.98329569, 0.39944288, 0.59417668, 0.36817057,\n",
       "        0.52560971, 0.24749824, 0.2743726 , 0.27846127, 0.38207105]])"
      ]
     },
     "execution_count": 89,
     "metadata": {},
     "output_type": "execute_result"
    }
   ],
   "source": [
    "z.reshape(2, 25)"
   ]
  },
  {
   "cell_type": "code",
   "execution_count": 90,
   "id": "4e6a061d",
   "metadata": {},
   "outputs": [
    {
     "data": {
      "text/plain": [
       "array([[0.53706316, 0.69587382, 0.95994747, 0.41989459, 0.97566298,\n",
       "        0.91542196, 0.02112053, 0.76676476, 0.92724764, 0.52560971],\n",
       "       [0.29325182, 0.72156132, 0.90131929, 0.29978012, 0.40557653,\n",
       "        0.56229601, 0.97580197, 0.43718269, 0.98329569, 0.24749824],\n",
       "       [0.24772018, 0.24482982, 0.18864549, 0.69718132, 0.69286419,\n",
       "        0.8756743 , 0.88866146, 0.70937698, 0.39944288, 0.2743726 ],\n",
       "       [0.36035796, 0.14500222, 0.45452013, 0.00656281, 0.10751993,\n",
       "        0.56914041, 0.00353037, 0.22787457, 0.59417668, 0.27846127],\n",
       "       [0.31776892, 0.29689609, 0.14908857, 0.72837697, 0.89744416,\n",
       "        0.34527878, 0.70523286, 0.002344  , 0.36817057, 0.38207105]])"
      ]
     },
     "execution_count": 90,
     "metadata": {},
     "output_type": "execute_result"
    }
   ],
   "source": [
    "z.T"
   ]
  },
  {
   "cell_type": "code",
   "execution_count": 91,
   "id": "635ac9ba",
   "metadata": {},
   "outputs": [],
   "source": [
    "a = np.random.rand(10)\n",
    "b = np.random.rand(10)"
   ]
  },
  {
   "cell_type": "code",
   "execution_count": 92,
   "id": "b7ec3b78",
   "metadata": {},
   "outputs": [
    {
     "data": {
      "text/plain": [
       "array([0.23808495, 0.01272569, 0.59578701, 0.56963331, 0.93088514,\n",
       "       0.47892383, 0.36862669, 0.02072053, 0.37824488, 0.81251777])"
      ]
     },
     "execution_count": 92,
     "metadata": {},
     "output_type": "execute_result"
    }
   ],
   "source": [
    "a\n"
   ]
  },
  {
   "cell_type": "code",
   "execution_count": 93,
   "id": "92da61c1",
   "metadata": {},
   "outputs": [
    {
     "data": {
      "text/plain": [
       "array([0.00906968, 0.76150315, 0.63864534, 0.78479886, 0.98223699,\n",
       "       0.99735408, 0.20399438, 0.03279313, 0.44235476, 0.75386956])"
      ]
     },
     "execution_count": 93,
     "metadata": {},
     "output_type": "execute_result"
    }
   ],
   "source": [
    "b"
   ]
  },
  {
   "cell_type": "code",
   "execution_count": 95,
   "id": "e435051d",
   "metadata": {},
   "outputs": [
    {
     "data": {
      "text/plain": [
       "3.087128735283028"
      ]
     },
     "execution_count": 95,
     "metadata": {},
     "output_type": "execute_result"
    }
   ],
   "source": [
    "(a * b).sum()"
   ]
  },
  {
   "cell_type": "code",
   "execution_count": 96,
   "id": "f204c38f",
   "metadata": {},
   "outputs": [
    {
     "data": {
      "text/plain": [
       "3.087128735283028"
      ]
     },
     "execution_count": 96,
     "metadata": {},
     "output_type": "execute_result"
    }
   ],
   "source": [
    "np.dot(a, b)"
   ]
  },
  {
   "cell_type": "code",
   "execution_count": 97,
   "id": "b5cd645b",
   "metadata": {},
   "outputs": [],
   "source": [
    "A = np.random.rand(10, 5)\n",
    "B = np.random.rand(5, 2)"
   ]
  },
  {
   "cell_type": "code",
   "execution_count": 98,
   "id": "cc146159",
   "metadata": {},
   "outputs": [
    {
     "data": {
      "text/plain": [
       "array([[1.02415128, 1.40124779],\n",
       "       [1.26518703, 1.67258113],\n",
       "       [0.90192443, 1.21601149],\n",
       "       [1.33468759, 1.6831268 ],\n",
       "       [0.85635421, 0.8496804 ],\n",
       "       [0.52498641, 1.13705805],\n",
       "       [0.92013838, 1.64163331],\n",
       "       [0.76097697, 0.71973847],\n",
       "       [1.20262428, 1.30484426],\n",
       "       [0.61436643, 0.90470448]])"
      ]
     },
     "execution_count": 98,
     "metadata": {},
     "output_type": "execute_result"
    }
   ],
   "source": [
    "np.dot(A, B)"
   ]
  },
  {
   "cell_type": "code",
   "execution_count": 99,
   "id": "159a14fa",
   "metadata": {},
   "outputs": [
    {
     "ename": "ValueError",
     "evalue": "operands could not be broadcast together with shapes (10,5) (5,2) ",
     "output_type": "error",
     "traceback": [
      "\u001b[0;31m---------------------------------------------------------------------------\u001b[0m",
      "\u001b[0;31mValueError\u001b[0m                                Traceback (most recent call last)",
      "\u001b[0;32m/tmp/ipykernel_1109701/75022584.py\u001b[0m in \u001b[0;36m<module>\u001b[0;34m\u001b[0m\n\u001b[0;32m----> 1\u001b[0;31m \u001b[0mA\u001b[0m \u001b[0;34m*\u001b[0m \u001b[0mB\u001b[0m\u001b[0;34m\u001b[0m\u001b[0;34m\u001b[0m\u001b[0m\n\u001b[0m",
      "\u001b[0;31mValueError\u001b[0m: operands could not be broadcast together with shapes (10,5) (5,2) "
     ]
    }
   ],
   "source": [
    "A * B "
   ]
  },
  {
   "cell_type": "code",
   "execution_count": 100,
   "id": "a2083524",
   "metadata": {},
   "outputs": [
    {
     "data": {
      "text/plain": [
       "array([[1.02415128, 1.40124779],\n",
       "       [1.26518703, 1.67258113],\n",
       "       [0.90192443, 1.21601149],\n",
       "       [1.33468759, 1.6831268 ],\n",
       "       [0.85635421, 0.8496804 ],\n",
       "       [0.52498641, 1.13705805],\n",
       "       [0.92013838, 1.64163331],\n",
       "       [0.76097697, 0.71973847],\n",
       "       [1.20262428, 1.30484426],\n",
       "       [0.61436643, 0.90470448]])"
      ]
     },
     "execution_count": 100,
     "metadata": {},
     "output_type": "execute_result"
    }
   ],
   "source": [
    "A @ B"
   ]
  },
  {
   "cell_type": "code",
   "execution_count": 101,
   "id": "223e3ec1",
   "metadata": {},
   "outputs": [
    {
     "data": {
      "text/plain": [
       "array([[0.28074528, 0.53976549, 0.33122515, 0.81431308, 0.96925479],\n",
       "       [0.9114208 , 0.81872798, 0.99080492, 0.28154416, 0.00934275],\n",
       "       [0.85444585, 0.55555173, 0.28373469, 0.37334946, 0.30053204],\n",
       "       [0.58043689, 0.78997886, 0.28445294, 0.92062644, 0.7550682 ],\n",
       "       [0.09567804, 0.63617051, 0.24305186, 0.39432109, 0.60262446],\n",
       "       [0.71844624, 0.17280592, 0.71893993, 0.10376162, 0.82064729],\n",
       "       [0.49792567, 0.30909124, 0.63783   , 0.81714898, 0.89840329],\n",
       "       [0.15657874, 0.63011336, 0.47259057, 0.0723257 , 0.39644084],\n",
       "       [0.40633864, 0.86339471, 0.48547713, 0.46336981, 0.51868261],\n",
       "       [0.47002452, 0.38024479, 0.52578218, 0.08331032, 0.71206206]])"
      ]
     },
     "execution_count": 101,
     "metadata": {},
     "output_type": "execute_result"
    }
   ],
   "source": [
    "A\n"
   ]
  },
  {
   "cell_type": "code",
   "execution_count": 103,
   "id": "80ba22cf",
   "metadata": {},
   "outputs": [
    {
     "data": {
      "text/plain": [
       "array([[0.09567804, 0.17280592, 0.24305186, 0.0723257 , 0.00934275],\n",
       "       [0.15657874, 0.30909124, 0.28373469, 0.08331032, 0.30053204],\n",
       "       [0.28074528, 0.38024479, 0.28445294, 0.10376162, 0.39644084],\n",
       "       [0.40633864, 0.53976549, 0.33122515, 0.28154416, 0.51868261],\n",
       "       [0.47002452, 0.55555173, 0.47259057, 0.37334946, 0.60262446],\n",
       "       [0.49792567, 0.63011336, 0.48547713, 0.39432109, 0.71206206],\n",
       "       [0.58043689, 0.63617051, 0.52578218, 0.46336981, 0.7550682 ],\n",
       "       [0.71844624, 0.78997886, 0.63783   , 0.81431308, 0.82064729],\n",
       "       [0.85444585, 0.81872798, 0.71893993, 0.81714898, 0.89840329],\n",
       "       [0.9114208 , 0.86339471, 0.99080492, 0.92062644, 0.96925479]])"
      ]
     },
     "execution_count": 103,
     "metadata": {},
     "output_type": "execute_result"
    }
   ],
   "source": [
    "np.sort(A, axis=0)"
   ]
  },
  {
   "cell_type": "code",
   "execution_count": 105,
   "id": "7e963a3d",
   "metadata": {},
   "outputs": [
    {
     "data": {
      "text/plain": [
       "'/home/andrews/gitdev/misc/py4ds/notebooks/notes'"
      ]
     },
     "execution_count": 105,
     "metadata": {},
     "output_type": "execute_result"
    }
   ],
   "source": [
    "pwd"
   ]
  },
  {
   "cell_type": "code",
   "execution_count": 106,
   "id": "6cfa449e",
   "metadata": {},
   "outputs": [
    {
     "name": "stdout",
     "output_type": "stream",
     "text": [
      "data_visualization.ipynb           numba_stuff.ipynb\r\n",
      "introduction_to_collections.ipynb  parallel_execution.ipynb\r\n",
      "introduction_to_data_types.ipynb   parallel_with_joblib.ipynb\r\n",
      "introduction_to_numpy.ipynb        rpy2.ipynb\r\n",
      "introduction_to_pandas.ipynb       rpy_stuff.ipynb\r\n",
      "intro_programming.ipynb            Untitled1.ipynb\r\n",
      "intro_to_numpy.ipynb               Untitled2.ipynb\r\n",
      "intro_to_pandas.ipynb              Untitled.ipynb\r\n",
      "jit_with_numba.ipynb               using_r_in_python.ipynb\r\n"
     ]
    }
   ],
   "source": [
    "ls"
   ]
  },
  {
   "cell_type": "code",
   "execution_count": null,
   "id": "af457898",
   "metadata": {},
   "outputs": [],
   "source": []
  }
 ],
 "metadata": {
  "kernelspec": {
   "display_name": "Python 3",
   "language": "python",
   "name": "python3"
  },
  "language_info": {
   "codemirror_mode": {
    "name": "ipython",
    "version": 3
   },
   "file_extension": ".py",
   "mimetype": "text/x-python",
   "name": "python",
   "nbconvert_exporter": "python",
   "pygments_lexer": "ipython3",
   "version": "3.9.7"
  }
 },
 "nbformat": 4,
 "nbformat_minor": 5
}
