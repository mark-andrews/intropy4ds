{
 "cells": [
  {
   "cell_type": "code",
   "execution_count": 1,
   "id": "82885709",
   "metadata": {},
   "outputs": [],
   "source": [
    "from numba import jit"
   ]
  },
  {
   "cell_type": "code",
   "execution_count": 7,
   "id": "f77b4494",
   "metadata": {},
   "outputs": [],
   "source": [
    "def slow_mean(x):\n",
    "\n",
    "    total = 0.0\n",
    "    \n",
    "    for x_i in x:\n",
    "        total += x_i\n",
    "\n",
    "    return total / len(x)"
   ]
  },
  {
   "cell_type": "code",
   "execution_count": 8,
   "id": "ff2085ea",
   "metadata": {},
   "outputs": [],
   "source": [
    "import numpy as np"
   ]
  },
  {
   "cell_type": "code",
   "execution_count": 9,
   "id": "afeafa93",
   "metadata": {},
   "outputs": [],
   "source": [
    "x = np.random.rand(int(1e6))"
   ]
  },
  {
   "cell_type": "code",
   "execution_count": 11,
   "id": "9d8b9f90",
   "metadata": {},
   "outputs": [
    {
     "data": {
      "text/plain": [
       "0.5002345950455004"
      ]
     },
     "execution_count": 11,
     "metadata": {},
     "output_type": "execute_result"
    }
   ],
   "source": [
    "slow_mean(x)"
   ]
  },
  {
   "cell_type": "code",
   "execution_count": 12,
   "id": "2495a12c",
   "metadata": {},
   "outputs": [
    {
     "data": {
      "text/plain": [
       "0.5002345950455103"
      ]
     },
     "execution_count": 12,
     "metadata": {},
     "output_type": "execute_result"
    }
   ],
   "source": [
    "x.mean()"
   ]
  },
  {
   "cell_type": "code",
   "execution_count": 13,
   "id": "1bb047c7",
   "metadata": {},
   "outputs": [
    {
     "name": "stdout",
     "output_type": "stream",
     "text": [
      "81.7 ms ± 1.65 ms per loop (mean ± std. dev. of 7 runs, 10 loops each)\n"
     ]
    }
   ],
   "source": [
    "slow_result = %timeit -o slow_mean(x)"
   ]
  },
  {
   "cell_type": "code",
   "execution_count": 14,
   "id": "f247fb53",
   "metadata": {},
   "outputs": [
    {
     "name": "stdout",
     "output_type": "stream",
     "text": [
      "196 µs ± 1.77 µs per loop (mean ± std. dev. of 7 runs, 1000 loops each)\n"
     ]
    }
   ],
   "source": [
    "fast_result = %timeit -o x.mean()"
   ]
  },
  {
   "cell_type": "code",
   "execution_count": 15,
   "id": "82b07fb6",
   "metadata": {},
   "outputs": [
    {
     "data": {
      "text/plain": [
       "417.20768570445193"
      ]
     },
     "execution_count": 15,
     "metadata": {},
     "output_type": "execute_result"
    }
   ],
   "source": [
    "slow_result.average / fast_result.average"
   ]
  },
  {
   "cell_type": "code",
   "execution_count": 16,
   "id": "2347fbae",
   "metadata": {},
   "outputs": [],
   "source": [
    "jit_mean = jit(slow_mean)"
   ]
  },
  {
   "cell_type": "code",
   "execution_count": 19,
   "id": "0fcf1bc2",
   "metadata": {},
   "outputs": [
    {
     "name": "stdout",
     "output_type": "stream",
     "text": [
      "765 µs ± 16 µs per loop (mean ± std. dev. of 7 runs, 1000 loops each)\n"
     ]
    }
   ],
   "source": [
    "jit_result = %timeit -o jit_mean(x)"
   ]
  },
  {
   "cell_type": "code",
   "execution_count": 20,
   "id": "a9728c8f",
   "metadata": {},
   "outputs": [
    {
     "data": {
      "text/plain": [
       "106.79010166297704"
      ]
     },
     "execution_count": 20,
     "metadata": {},
     "output_type": "execute_result"
    }
   ],
   "source": [
    "slow_result.average / jit_result.average"
   ]
  },
  {
   "cell_type": "code",
   "execution_count": null,
   "id": "81a26ca6",
   "metadata": {},
   "outputs": [],
   "source": []
  }
 ],
 "metadata": {
  "kernelspec": {
   "display_name": "Python 3",
   "language": "python",
   "name": "python3"
  },
  "language_info": {
   "codemirror_mode": {
    "name": "ipython",
    "version": 3
   },
   "file_extension": ".py",
   "mimetype": "text/x-python",
   "name": "python",
   "nbconvert_exporter": "python",
   "pygments_lexer": "ipython3",
   "version": "3.9.7"
  }
 },
 "nbformat": 4,
 "nbformat_minor": 5
}
