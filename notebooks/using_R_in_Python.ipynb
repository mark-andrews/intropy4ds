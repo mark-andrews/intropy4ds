{
 "cells": [
  {
   "cell_type": "code",
   "execution_count": 1,
   "id": "b339a27c",
   "metadata": {},
   "outputs": [],
   "source": [
    "%load_ext rpy2.ipython"
   ]
  },
  {
   "cell_type": "code",
   "execution_count": 6,
   "id": "1c952478",
   "metadata": {},
   "outputs": [],
   "source": [
    "x = %R rnorm(10, mean = 10, sd = 15)"
   ]
  },
  {
   "cell_type": "code",
   "execution_count": 7,
   "id": "2cbe322c",
   "metadata": {},
   "outputs": [
    {
     "data": {
      "text/plain": [
       "array([-17.30591817,  38.49750816,  -4.97078427,  17.40087304,\n",
       "         2.42346702,  13.20131565,  17.55102464,   6.35002201,\n",
       "         1.15468242,  22.27535192])"
      ]
     },
     "execution_count": 7,
     "metadata": {},
     "output_type": "execute_result"
    }
   ],
   "source": [
    "x"
   ]
  },
  {
   "cell_type": "code",
   "execution_count": 8,
   "id": "788fdaa6",
   "metadata": {},
   "outputs": [],
   "source": [
    "import pandas as pd"
   ]
  },
  {
   "cell_type": "code",
   "execution_count": 9,
   "id": "53797c84",
   "metadata": {},
   "outputs": [],
   "source": [
    "affairs_df = pd.read_csv(\"https://raw.githubusercontent.com/mark-andrews/intropy4ds/master/data/affairs.csv\")"
   ]
  },
  {
   "cell_type": "code",
   "execution_count": 10,
   "id": "288f5a1d",
   "metadata": {},
   "outputs": [
    {
     "data": {
      "text/html": [
       "<div>\n",
       "<style scoped>\n",
       "    .dataframe tbody tr th:only-of-type {\n",
       "        vertical-align: middle;\n",
       "    }\n",
       "\n",
       "    .dataframe tbody tr th {\n",
       "        vertical-align: top;\n",
       "    }\n",
       "\n",
       "    .dataframe thead th {\n",
       "        text-align: right;\n",
       "    }\n",
       "</style>\n",
       "<table border=\"1\" class=\"dataframe\">\n",
       "  <thead>\n",
       "    <tr style=\"text-align: right;\">\n",
       "      <th></th>\n",
       "      <th>affairs</th>\n",
       "      <th>gender</th>\n",
       "      <th>age</th>\n",
       "      <th>yearsmarried</th>\n",
       "      <th>children</th>\n",
       "      <th>religiousness</th>\n",
       "      <th>education</th>\n",
       "      <th>occupation</th>\n",
       "      <th>rating</th>\n",
       "    </tr>\n",
       "  </thead>\n",
       "  <tbody>\n",
       "    <tr>\n",
       "      <th>0</th>\n",
       "      <td>0</td>\n",
       "      <td>male</td>\n",
       "      <td>37.0</td>\n",
       "      <td>10.00</td>\n",
       "      <td>no</td>\n",
       "      <td>3</td>\n",
       "      <td>18</td>\n",
       "      <td>7</td>\n",
       "      <td>4</td>\n",
       "    </tr>\n",
       "    <tr>\n",
       "      <th>1</th>\n",
       "      <td>0</td>\n",
       "      <td>female</td>\n",
       "      <td>27.0</td>\n",
       "      <td>4.00</td>\n",
       "      <td>no</td>\n",
       "      <td>4</td>\n",
       "      <td>14</td>\n",
       "      <td>6</td>\n",
       "      <td>4</td>\n",
       "    </tr>\n",
       "    <tr>\n",
       "      <th>2</th>\n",
       "      <td>0</td>\n",
       "      <td>female</td>\n",
       "      <td>32.0</td>\n",
       "      <td>15.00</td>\n",
       "      <td>yes</td>\n",
       "      <td>1</td>\n",
       "      <td>12</td>\n",
       "      <td>1</td>\n",
       "      <td>4</td>\n",
       "    </tr>\n",
       "    <tr>\n",
       "      <th>3</th>\n",
       "      <td>0</td>\n",
       "      <td>male</td>\n",
       "      <td>57.0</td>\n",
       "      <td>15.00</td>\n",
       "      <td>yes</td>\n",
       "      <td>5</td>\n",
       "      <td>18</td>\n",
       "      <td>6</td>\n",
       "      <td>5</td>\n",
       "    </tr>\n",
       "    <tr>\n",
       "      <th>4</th>\n",
       "      <td>0</td>\n",
       "      <td>male</td>\n",
       "      <td>22.0</td>\n",
       "      <td>0.75</td>\n",
       "      <td>no</td>\n",
       "      <td>2</td>\n",
       "      <td>17</td>\n",
       "      <td>6</td>\n",
       "      <td>3</td>\n",
       "    </tr>\n",
       "    <tr>\n",
       "      <th>...</th>\n",
       "      <td>...</td>\n",
       "      <td>...</td>\n",
       "      <td>...</td>\n",
       "      <td>...</td>\n",
       "      <td>...</td>\n",
       "      <td>...</td>\n",
       "      <td>...</td>\n",
       "      <td>...</td>\n",
       "      <td>...</td>\n",
       "    </tr>\n",
       "    <tr>\n",
       "      <th>596</th>\n",
       "      <td>1</td>\n",
       "      <td>male</td>\n",
       "      <td>22.0</td>\n",
       "      <td>1.50</td>\n",
       "      <td>yes</td>\n",
       "      <td>1</td>\n",
       "      <td>12</td>\n",
       "      <td>2</td>\n",
       "      <td>5</td>\n",
       "    </tr>\n",
       "    <tr>\n",
       "      <th>597</th>\n",
       "      <td>7</td>\n",
       "      <td>female</td>\n",
       "      <td>32.0</td>\n",
       "      <td>10.00</td>\n",
       "      <td>yes</td>\n",
       "      <td>2</td>\n",
       "      <td>18</td>\n",
       "      <td>5</td>\n",
       "      <td>4</td>\n",
       "    </tr>\n",
       "    <tr>\n",
       "      <th>598</th>\n",
       "      <td>2</td>\n",
       "      <td>male</td>\n",
       "      <td>32.0</td>\n",
       "      <td>10.00</td>\n",
       "      <td>yes</td>\n",
       "      <td>2</td>\n",
       "      <td>17</td>\n",
       "      <td>6</td>\n",
       "      <td>5</td>\n",
       "    </tr>\n",
       "    <tr>\n",
       "      <th>599</th>\n",
       "      <td>2</td>\n",
       "      <td>male</td>\n",
       "      <td>22.0</td>\n",
       "      <td>7.00</td>\n",
       "      <td>yes</td>\n",
       "      <td>3</td>\n",
       "      <td>18</td>\n",
       "      <td>6</td>\n",
       "      <td>2</td>\n",
       "    </tr>\n",
       "    <tr>\n",
       "      <th>600</th>\n",
       "      <td>1</td>\n",
       "      <td>female</td>\n",
       "      <td>32.0</td>\n",
       "      <td>15.00</td>\n",
       "      <td>yes</td>\n",
       "      <td>3</td>\n",
       "      <td>14</td>\n",
       "      <td>1</td>\n",
       "      <td>5</td>\n",
       "    </tr>\n",
       "  </tbody>\n",
       "</table>\n",
       "<p>601 rows × 9 columns</p>\n",
       "</div>"
      ],
      "text/plain": [
       "     affairs  gender   age  yearsmarried children  religiousness  education  \\\n",
       "0          0    male  37.0         10.00       no              3         18   \n",
       "1          0  female  27.0          4.00       no              4         14   \n",
       "2          0  female  32.0         15.00      yes              1         12   \n",
       "3          0    male  57.0         15.00      yes              5         18   \n",
       "4          0    male  22.0          0.75       no              2         17   \n",
       "..       ...     ...   ...           ...      ...            ...        ...   \n",
       "596        1    male  22.0          1.50      yes              1         12   \n",
       "597        7  female  32.0         10.00      yes              2         18   \n",
       "598        2    male  32.0         10.00      yes              2         17   \n",
       "599        2    male  22.0          7.00      yes              3         18   \n",
       "600        1  female  32.0         15.00      yes              3         14   \n",
       "\n",
       "     occupation  rating  \n",
       "0             7       4  \n",
       "1             6       4  \n",
       "2             1       4  \n",
       "3             6       5  \n",
       "4             6       3  \n",
       "..          ...     ...  \n",
       "596           2       5  \n",
       "597           5       4  \n",
       "598           6       5  \n",
       "599           6       2  \n",
       "600           1       5  \n",
       "\n",
       "[601 rows x 9 columns]"
      ]
     },
     "execution_count": 10,
     "metadata": {},
     "output_type": "execute_result"
    }
   ],
   "source": [
    "affairs_df"
   ]
  },
  {
   "cell_type": "code",
   "execution_count": 11,
   "id": "5b976b2e",
   "metadata": {},
   "outputs": [],
   "source": [
    "%%R -i affairs_df -o S\n",
    "\n",
    "affairs_df$had_affair <- affairs_df$affairs > 0\n",
    "\n",
    "M <- glm(had_affair ~ gender + age + yearsmarried,\n",
    "         data = affairs_df,\n",
    "         family = binomial(link = 'logit'))\n",
    "\n",
    "S <- summary(M)"
   ]
  },
  {
   "cell_type": "code",
   "execution_count": 13,
   "id": "692eed7f",
   "metadata": {},
   "outputs": [
    {
     "name": "stdout",
     "output_type": "stream",
     "text": [
      "\n",
      "Call:\n",
      "glm(formula = had_affair ~ gender + age + yearsmarried, family = binomial(link = \"logit\"), \n",
      "    data = affairs_df)\n",
      "\n",
      "Deviance Residuals: \n",
      "    Min       1Q   Median       3Q      Max  \n",
      "-1.0995  -0.7913  -0.6624  -0.4500   2.0118  \n",
      "\n",
      "Coefficients:\n",
      "             Estimate Std. Error z value Pr(>|z|)    \n",
      "(Intercept)  -0.89976    0.40296  -2.233   0.0256 *  \n",
      "gendermale    0.34562    0.19833   1.743   0.0814 .  \n",
      "age          -0.04045    0.01721  -2.350   0.0188 *  \n",
      "yearsmarried  0.11084    0.02811   3.943 8.03e-05 ***\n",
      "---\n",
      "Signif. codes:  0 ‘***’ 0.001 ‘**’ 0.01 ‘*’ 0.05 ‘.’ 0.1 ‘ ’ 1\n",
      "\n",
      "(Dispersion parameter for binomial family taken to be 1)\n",
      "\n",
      "    Null deviance: 675.38  on 600  degrees of freedom\n",
      "Residual deviance: 656.35  on 597  degrees of freedom\n",
      "AIC: 664.35\n",
      "\n",
      "Number of Fisher Scoring iterations: 4\n",
      "\n",
      "\n"
     ]
    }
   ],
   "source": [
    "print(S)"
   ]
  },
  {
   "cell_type": "code",
   "execution_count": 15,
   "id": "851f3c3d",
   "metadata": {},
   "outputs": [
    {
     "name": "stdout",
     "output_type": "stream",
     "text": [
      "                Estimate Std. Error   z value     Pr(>|z|)\n",
      "(Intercept)  -0.89976000 0.40296358 -2.232857 2.555838e-02\n",
      "gendermale    0.34562410 0.19832822  1.742687 8.138822e-02\n",
      "age          -0.04045319 0.01721471 -2.349920 1.877747e-02\n",
      "yearsmarried  0.11083639 0.02810619  3.943487 8.030536e-05\n",
      "\n"
     ]
    }
   ],
   "source": [
    "print(S.rx2('coefficients'))"
   ]
  },
  {
   "cell_type": "code",
   "execution_count": 16,
   "id": "837896e5",
   "metadata": {},
   "outputs": [],
   "source": [
    "import numpy as np"
   ]
  },
  {
   "cell_type": "code",
   "execution_count": 17,
   "id": "26271cc3",
   "metadata": {},
   "outputs": [],
   "source": [
    "coefficients = S.rx2('coefficients')"
   ]
  },
  {
   "cell_type": "code",
   "execution_count": 18,
   "id": "3a472bbd",
   "metadata": {},
   "outputs": [
    {
     "data": {
      "text/html": [
       "\n",
       "        <span>FloatMatrix with 16 elements.</span>\n",
       "        <table>\n",
       "        <tbody>\n",
       "          <tr>\n",
       "          \n",
       "            <td>\n",
       "            -0.899760\n",
       "            </td>\n",
       "          \n",
       "            <td>\n",
       "            0.345624\n",
       "            </td>\n",
       "          \n",
       "            <td>\n",
       "            -0.040453\n",
       "            </td>\n",
       "          \n",
       "            <td>\n",
       "            ...\n",
       "            </td>\n",
       "          \n",
       "            <td>\n",
       "            0.081388\n",
       "            </td>\n",
       "          \n",
       "            <td>\n",
       "            0.018777\n",
       "            </td>\n",
       "          \n",
       "            <td>\n",
       "            0.000080\n",
       "            </td>\n",
       "          \n",
       "          </tr>\n",
       "        </tbody>\n",
       "        </table>\n",
       "        "
      ],
      "text/plain": [
       "<rpy2.robjects.vectors.FloatMatrix object at 0x7f3c6d12b8c0> [RTYPES.REALSXP]\n",
       "R classes: ('matrix', 'array')\n",
       "[-0.899760, 0.345624, -0.040453, 0.110836, ..., 0.025558, 0.081388, 0.018777, 0.000080]"
      ]
     },
     "execution_count": 18,
     "metadata": {},
     "output_type": "execute_result"
    }
   ],
   "source": [
    "coefficients"
   ]
  },
  {
   "cell_type": "code",
   "execution_count": 19,
   "id": "5b6077e7",
   "metadata": {},
   "outputs": [
    {
     "data": {
      "text/plain": [
       "rpy2.robjects.vectors.FloatMatrix"
      ]
     },
     "execution_count": 19,
     "metadata": {},
     "output_type": "execute_result"
    }
   ],
   "source": [
    "type(coefficients)"
   ]
  },
  {
   "cell_type": "code",
   "execution_count": 24,
   "id": "93ad74af",
   "metadata": {},
   "outputs": [
    {
     "data": {
      "text/plain": [
       "array([[-0.9 ,  0.4 , -2.23,  0.03],\n",
       "       [ 0.35,  0.2 ,  1.74,  0.08],\n",
       "       [-0.04,  0.02, -2.35,  0.02],\n",
       "       [ 0.11,  0.03,  3.94,  0.  ]])"
      ]
     },
     "execution_count": 24,
     "metadata": {},
     "output_type": "execute_result"
    }
   ],
   "source": [
    "np.array(coefficients).round(2)"
   ]
  },
  {
   "cell_type": "code",
   "execution_count": 23,
   "id": "33a11131",
   "metadata": {},
   "outputs": [
    {
     "data": {
      "text/html": [
       "\n",
       "        <span>IntVector with 2 elements.</span>\n",
       "        <table>\n",
       "        <tbody>\n",
       "          <tr>\n",
       "          \n",
       "            <td>\n",
       "            4\n",
       "            </td>\n",
       "          \n",
       "            <td>\n",
       "            4\n",
       "            </td>\n",
       "          \n",
       "          </tr>\n",
       "        </tbody>\n",
       "        </table>\n",
       "        "
      ],
      "text/plain": [
       "<rpy2.robjects.vectors.IntVector object at 0x7f3c6d121740> [RTYPES.INTSXP]\n",
       "R classes: ('integer',)\n",
       "[4, 4]"
      ]
     },
     "execution_count": 23,
     "metadata": {},
     "output_type": "execute_result"
    }
   ],
   "source": [
    "coefficients.dim"
   ]
  },
  {
   "cell_type": "code",
   "execution_count": 25,
   "id": "8a3b6b0b",
   "metadata": {},
   "outputs": [
    {
     "data": {
      "text/html": [
       "\n",
       "        <span>FloatVector with 1 elements.</span>\n",
       "        <table>\n",
       "        <tbody>\n",
       "          <tr>\n",
       "          \n",
       "            <td>\n",
       "            656.351989\n",
       "            </td>\n",
       "          \n",
       "          </tr>\n",
       "        </tbody>\n",
       "        </table>\n",
       "        "
      ],
      "text/plain": [
       "<rpy2.robjects.vectors.FloatVector object at 0x7f3c6ef873c0> [RTYPES.REALSXP]\n",
       "R classes: ('numeric',)\n",
       "[656.351989]"
      ]
     },
     "execution_count": 25,
     "metadata": {},
     "output_type": "execute_result"
    }
   ],
   "source": [
    "S.rx2('deviance') # equivalent to S$deviance"
   ]
  },
  {
   "cell_type": "code",
   "execution_count": 28,
   "id": "c6ee75cd",
   "metadata": {},
   "outputs": [
    {
     "data": {
      "text/plain": [
       "656.3519885810024"
      ]
     },
     "execution_count": 28,
     "metadata": {},
     "output_type": "execute_result"
    }
   ],
   "source": [
    "np.array(S.rx2('deviance'))[0]"
   ]
  },
  {
   "cell_type": "code",
   "execution_count": null,
   "id": "4017edf0",
   "metadata": {},
   "outputs": [],
   "source": []
  }
 ],
 "metadata": {
  "kernelspec": {
   "display_name": "Python 3",
   "language": "python",
   "name": "python3"
  },
  "language_info": {
   "codemirror_mode": {
    "name": "ipython",
    "version": 3
   },
   "file_extension": ".py",
   "mimetype": "text/x-python",
   "name": "python",
   "nbconvert_exporter": "python",
   "pygments_lexer": "ipython3",
   "version": "3.9.7"
  }
 },
 "nbformat": 4,
 "nbformat_minor": 5
}
